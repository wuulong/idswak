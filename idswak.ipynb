{
 "cells": [
  {
   "cell_type": "markdown",
   "metadata": {},
   "source": [
    "# Setup"
   ]
  },
  {
   "cell_type": "code",
   "execution_count": null,
   "metadata": {},
   "outputs": [],
   "source": [
    "from idswak import *\n",
    "\n",
    "idMgr = IdSwak()\n",
    "idMgr.load_ds_all()\n",
    "idMgr.prepare_by_scan('')"
   ]
  },
  {
   "cell_type": "code",
   "execution_count": null,
   "metadata": {},
   "outputs": [],
   "source": [
    "# Setup 2"
   ]
  },
  {
   "cell_type": "code",
   "execution_count": null,
   "metadata": {},
   "outputs": [],
   "source": [
    "idMgr.init_fusion()\n",
    "idMgr.fusion_act('content') #info,content\n",
    "idMgr.output_fusion()\n"
   ]
  },
  {
   "cell_type": "markdown",
   "metadata": {},
   "source": [
    "# Current Debug"
   ]
  },
  {
   "cell_type": "code",
   "execution_count": null,
   "metadata": {},
   "outputs": [],
   "source": [
    "df=idMgr.fusion_act('info') #info\n",
    "df.to_clipboard()"
   ]
  },
  {
   "cell_type": "markdown",
   "metadata": {},
   "source": [
    "# Manual Check"
   ]
  },
  {
   "cell_type": "code",
   "execution_count": null,
   "metadata": {},
   "outputs": [],
   "source": [
    "idMgr.df_cfg"
   ]
  },
  {
   "cell_type": "code",
   "execution_count": null,
   "metadata": {},
   "outputs": [],
   "source": [
    "idMgr.df_fusion.describe()"
   ]
  },
  {
   "cell_type": "code",
   "execution_count": null,
   "metadata": {},
   "outputs": [],
   "source": [
    "df=idMgr.load_ds('riverpoly')\n",
    "df"
   ]
  },
  {
   "cell_type": "code",
   "execution_count": null,
   "metadata": {},
   "outputs": [],
   "source": [
    "idMgr.dfs['排水']"
   ]
  },
  {
   "cell_type": "code",
   "execution_count": null,
   "metadata": {},
   "outputs": [],
   "source": [
    "idMgr.desc_ds_col('riverlin','NAME')"
   ]
  },
  {
   "cell_type": "code",
   "execution_count": null,
   "metadata": {},
   "outputs": [],
   "source": [
    "#idMgr.col_action_str(\"river_code,河川名稱,wd_river,itemLabel,o\")\n",
    "#idMgr.col_action_str(\"river_code,河川名稱,河川簡介,ChineseTerminology,o\")\n",
    "idMgr.col_action_str(\"river_code,河川名稱,riverpoly,RIVER_NAME,o\")"
   ]
  },
  {
   "cell_type": "code",
   "execution_count": null,
   "metadata": {},
   "outputs": [],
   "source": [
    "idMgr.name_used['濁水溪']"
   ]
  },
  {
   "cell_type": "code",
   "execution_count": null,
   "metadata": {},
   "outputs": [],
   "source": [
    "idx = (idMgr.dfs['排水']['Manager']=='中央管區域排水')\n",
    "df=idMgr.dfs['排水'].loc[idx,]\n",
    "idMgr.col_action(idMgr.dfs['river_code'], '河川名稱', df, 'Drain_Name', '')"
   ]
  },
  {
   "cell_type": "code",
   "execution_count": null,
   "metadata": {},
   "outputs": [],
   "source": [
    "idMgr.ds_gen_id('排水','N')"
   ]
  },
  {
   "cell_type": "code",
   "execution_count": null,
   "metadata": {},
   "outputs": [],
   "source": [
    "idMgr.find_name_info('汀甫圳')"
   ]
  },
  {
   "cell_type": "code",
   "execution_count": null,
   "metadata": {},
   "outputs": [],
   "source": [
    "df=idMgr.dfs['river_code']\n",
    "df2=df.groupby(['河川名稱']).size()\n",
    "df2.sort_values(ascending=False)"
   ]
  },
  {
   "cell_type": "code",
   "execution_count": null,
   "metadata": {},
   "outputs": [],
   "source": [
    "idMgr.ds_name_merge(['river_code','排水'])"
   ]
  },
  {
   "cell_type": "markdown",
   "metadata": {},
   "source": [
    "# Task"
   ]
  },
  {
   "cell_type": "code",
   "execution_count": null,
   "metadata": {},
   "outputs": [],
   "source": [
    "#某資料集名稱跟目前 fusion 的所有名稱比較\n",
    "A=idMgr.df_fusion['name'].unique()\n",
    "df=idMgr.load_ds('riverpoly')\n",
    "B=df['RIVER_NAME'].unique()\n",
    "\n",
    "vs_m=set(A)\n",
    "vs_s=set(B)\n",
    "out = [vs_m.union(vs_s),vs_m.intersection(vs_s),vs_m.difference(vs_s),vs_s.difference(vs_m)]\n",
    "print(\"counter of A=%i, B=%i, A+B=%i,A&B=%i,A-B=%i,B-A=%i\\n\" %(len(vs_m),len(vs_s),len(out[0]),len(out[1]),len(out[2]),len(out[3])))\n",
    "print(\"A+B=%s\\n\\nA&B=%s\\n\\nA-B=%s\\n\\nB-A=%s\\n\\n\" %(out[0],out[1],out[2],out[3]))\n"
   ]
  },
  {
   "cell_type": "code",
   "execution_count": null,
   "metadata": {},
   "outputs": [],
   "source": [
    "#col_key 重複值檢查\n",
    "#idMgr = IdSwakMgr()\n",
    "#idMgr.load_ds_all()\n",
    "#df=idMgr.dfs['riverpoly']\n",
    "df=idMgr.load_ds('riverpoly')\n",
    "#idx = df[['P_ID','geo_id','ex_hydroid']].duplicated()\n",
    "idx = df[['RIVER_NAME','RIVER_TYPE','RIVER_CODE']].duplicated()\n",
    "df[idx]\n",
    "#df"
   ]
  },
  {
   "cell_type": "code",
   "execution_count": null,
   "metadata": {},
   "outputs": [],
   "source": [
    "idMgr.df_fusion['name'].unique()"
   ]
  },
  {
   "cell_type": "code",
   "execution_count": null,
   "metadata": {},
   "outputs": [],
   "source": [
    "#原始資料統計資訊\n",
    "cfg=idMgr.cfg\n",
    "cnt_total=0\n",
    "for ds_name in cfg.keys():\n",
    "    if cfg[ds_name]['enabled']==1:\n",
    "        df = idMgr.dfs[ds_name]\n",
    "        print(\"ds_name=%s\" %(ds_name))\n",
    "        print(df.shape)\n",
    "        cnt_total += df.shape[0]\n",
    "print(\"cnt_total=%s\" %(cnt_total))"
   ]
  },
  {
   "cell_type": "markdown",
   "metadata": {},
   "source": [
    "# unique"
   ]
  },
  {
   "cell_type": "code",
   "execution_count": null,
   "metadata": {},
   "outputs": [],
   "source": [
    "#idMgr.name_used\n",
    "cnt=0\n",
    "for name in idMgr.name_used.keys():\n",
    "    if len(idMgr.name_used[name])>1:\n",
    "        print(\"%s-%s\" %(name,idMgr.name_used[name]))\n",
    "        cnt +=1\n",
    "print(\"Duplicate name count=%i\" %(cnt))"
   ]
  },
  {
   "cell_type": "markdown",
   "metadata": {},
   "source": [
    "# Data Source"
   ]
  },
  {
   "cell_type": "code",
   "execution_count": null,
   "metadata": {},
   "outputs": [],
   "source": [
    "#riverpoly-unique\n",
    "df=pd.read_csv('dataset/25781-河川河道-riverpoly.csv', keep_default_na=False)\n",
    "df2=pd.DataFrame(df.groupby(['RIVER_CODE','RIVER_NAME','RIVER_FROM']).size().rename('FREQ'))\n",
    "df3=df2.reset_index()\n",
    "df3.to_clipboard()\n",
    "#need manually remove first row and rename index column = ID"
   ]
  },
  {
   "cell_type": "markdown",
   "metadata": {},
   "source": [
    "# Debug"
   ]
  },
  {
   "cell_type": "code",
   "execution_count": null,
   "metadata": {},
   "outputs": [],
   "source": [
    "#df=idMgr.load_ds('riverpoly')\n",
    "#df2=pd.read_csv('dataset/25781-河川河道-riverpoly.csv', dtype={'RIVER_CODE': 'int64'})\n",
    "df=pd.read_csv('dataset/25781-河川河道-riverpoly.csv', keep_default_na=False)\n",
    "\n",
    "#df['RIVER_CODE'].astype('object')\n",
    "#df[\"RIVER_CODE\"] = df['RIVER_CODE'].astype('int')\n",
    "#df\n",
    "#df2.dtypes\n",
    "#df[\"RIVER_NAME\",'RIVER_TYPE'].unique()\n",
    "df2=pd.DataFrame(df.groupby(['RIVER_CODE','RIVER_NAME','RIVER_FROM']).size().rename('FREQ'))\n",
    "df3=df2.reset_index()\n",
    "df3.to_clipboard()\n",
    "#df2.sort_values('Freq',ascending=False)\n",
    "#df2.dtypes\n",
    "#df2.to_csv('output/riverpoly.csv')\n",
    "#df2['RIVER_NAME']\n",
    "#idx=(df2['RIVER_NAME']=='')\n",
    "#df2[idx]\n",
    "#df2"
   ]
  },
  {
   "cell_type": "code",
   "execution_count": null,
   "metadata": {},
   "outputs": [],
   "source": [
    "#debug\n",
    "idMgr = IdSwakMgr()\n",
    "\n",
    "idMgr.load_ds_all()\n",
    "names = []\n",
    "ds_names = ['wd_river','wd_canal']\n",
    "for ds_name in ds_names:\n",
    "    print(ds_name)\n",
    "    col_name = idMgr.cfg[ds_name]['col_name']\n",
    "    names.extend(idMgr.dfs[ds_name][col_name].values.tolist())\n",
    "names_u = list(set(names))\n",
    "names_u"
   ]
  },
  {
   "cell_type": "code",
   "execution_count": null,
   "metadata": {},
   "outputs": [],
   "source": [
    "import numpy as np\n",
    "df = pd.DataFrame(np.random.rand(20,5))\n",
    "df.index = pd.date_range('2020/1/1',periods=df.shape[0])\n",
    "df.to_clipboard()"
   ]
  },
  {
   "cell_type": "code",
   "execution_count": null,
   "metadata": {},
   "outputs": [],
   "source": [
    "a=[[1_1,1_2],[2_1,2_2]]\n",
    "df=pd.DataFrame(a)\n",
    "df"
   ]
  },
  {
   "cell_type": "code",
   "execution_count": null,
   "metadata": {},
   "outputs": [],
   "source": []
  }
 ],
 "metadata": {
  "kernelspec": {
   "display_name": "Python 3",
   "language": "python",
   "name": "python3"
  },
  "language_info": {
   "codemirror_mode": {
    "name": "ipython",
    "version": 3
   },
   "file_extension": ".py",
   "mimetype": "text/x-python",
   "name": "python",
   "nbconvert_exporter": "python",
   "pygments_lexer": "ipython3",
   "version": "3.7.1"
  }
 },
 "nbformat": 4,
 "nbformat_minor": 2
}
